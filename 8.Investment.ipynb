{
 "cells": [
  {
   "cell_type": "code",
   "execution_count": 1,
   "metadata": {
    "ExecuteTime": {
     "end_time": "2019-01-11T10:36:56.616808Z",
     "start_time": "2019-01-11T10:36:44.934905Z"
    }
   },
   "outputs": [
    {
     "name": "stdout",
     "output_type": "stream",
     "text": [
      "Enter the investment amount: 25000\n",
      "Enter the number of years: 10\n",
      "Enter the rate as a %: 8\n",
      "Year  Starting balance  Interest  Ending balance\n",
      "   1          25000.00   2000.00        27000.00\n",
      "   2          27000.00   2160.00        29160.00\n",
      "   3          29160.00   2332.80        31492.80\n",
      "   4          31492.80   2519.42        34012.22\n",
      "   5          34012.22   2720.98        36733.20\n",
      "   6          36733.20   2938.66        39671.86\n",
      "   7          39671.86   3173.75        42845.61\n",
      "   8          42845.61   3427.65        46273.26\n",
      "   9          46273.26   3701.86        49975.12\n",
      "  10          49975.12   3998.01        53973.12\n",
      "\n",
      "Ending balance: $53973.12\n",
      "Total interest earned: $28973.12\n"
     ]
    }
   ],
   "source": [
    "# -*- coding: utf-8 -*-\n",
    "\"\"\"\n",
    "Created on Fri Jan 11 01:53:19 2019\n",
    "\n",
    "@author: Byen23\n",
    "\n",
    "Program Investment.py\n",
    "Compute an investment report.\n",
    "\n",
    "1. The inputs are starting investment amount number of years     interest rate (an integer percent).\n",
    "\n",
    "2. The report is displayed in tabular form with a header. \n",
    "\n",
    "3. Computations and outputs:for each year compute the interest and add it to the investment print a formatted row of results for that year.\n",
    "\n",
    "4. The ending investment and interest earned are also displayed. \n",
    "\"\"\"\n",
    "\n",
    "# 8th Program to be uploaded to Github\n",
    "\n",
    "# Accepts the inputs\n",
    "startBalance = float(input(\"Enter the investment amount: \"))\n",
    "years = int(input(\"Enter the number of years: \"))\n",
    "rate = int(input(\"Enter the rate as a %: \"))\n",
    "\n",
    "# Convert the rate to a decimal number\n",
    "rate = rate / 100\n",
    "\n",
    "# Initialize the accumulator for the interest\n",
    "totalInterest = 0.0\n",
    "\n",
    "# Display the header for the table\n",
    "print(\"%4s%18s%10s%16s\" % \\\n",
    "\t  (\"Year\", \"Starting balance\", \"Interest\", \"Ending balance\"))\n",
    "\n",
    "# Compute and display the results for each year\n",
    "for year in range(1, years + 1):\n",
    "\tinterest = startBalance * rate\n",
    "\tendBalance = startBalance + interest\n",
    "\tprint(\"%4d%18.2f%10.2f%16.2f\" % \\\n",
    "\t   (year, startBalance, interest, endBalance))  \n",
    "\tstartBalance = endBalance\n",
    "\ttotalInterest += interest\n",
    "\n",
    "# Display the totals for the period\n",
    "print(\"\\nEnding balance: $%0.2f\" % endBalance)\n",
    "print(\"Total interest earned: $%0.2f\" % totalInterest)"
   ]
  }
 ],
 "metadata": {
  "kernelspec": {
   "display_name": "Python 3",
   "language": "python",
   "name": "python3"
  },
  "language_info": {
   "codemirror_mode": {
    "name": "ipython",
    "version": 3
   },
   "file_extension": ".py",
   "mimetype": "text/x-python",
   "name": "python",
   "nbconvert_exporter": "python",
   "pygments_lexer": "ipython3",
   "version": "3.6.7"
  }
 },
 "nbformat": 4,
 "nbformat_minor": 2
}
